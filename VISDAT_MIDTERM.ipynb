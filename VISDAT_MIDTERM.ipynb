{
  "nbformat": 4,
  "nbformat_minor": 0,
  "metadata": {
    "colab": {
      "provenance": []
    },
    "kernelspec": {
      "name": "python3",
      "display_name": "Python 3"
    },
    "language_info": {
      "name": "python"
    }
  },
  "cells": [
    {
      "cell_type": "code",
      "metadata": {
        "id": "MwtXiAqjDjwn"
      },
      "source": [
        "import matplotlib as mpl\n",
        "import pandas as pd\n",
        "import seaborn as sns\n",
        "import matplotlib.pyplot as plt\n"
      ],
      "execution_count": null,
      "outputs": []
    },
    {
      "cell_type": "code",
      "metadata": {
        "colab": {
          "base_uri": "https://localhost:8080/"
        },
        "id": "IS7cKo20EOiu",
        "outputId": "9c9bc895-aae8-46a5-db32-320255d867ef"
      },
      "source": [
        "!gdown --id 12TX8OKrwwXpo3SDDd6rllwNAF45GP-J-"
      ],
      "execution_count": null,
      "outputs": [
        {
          "output_type": "stream",
          "name": "stdout",
          "text": [
            "Downloading...\n",
            "From: https://drive.google.com/uc?id=12TX8OKrwwXpo3SDDd6rllwNAF45GP-J-\n",
            "To: /content/Data Set 1.csv\n",
            "\r  0% 0.00/1.15k [00:00<?, ?B/s]\r100% 1.15k/1.15k [00:00<00:00, 3.91MB/s]\n"
          ]
        }
      ]
    },
    {
      "cell_type": "code",
      "metadata": {
        "colab": {
          "base_uri": "https://localhost:8080/"
        },
        "id": "MkglKi1UFnN0",
        "outputId": "0c6cc66e-5ff1-4dcf-e53f-fa27ed7e6c41"
      },
      "source": [
        "!gdown --id 1XOQEnnC1Z2sZa-IofkpV6vUPpnV4VFfZ"
      ],
      "execution_count": null,
      "outputs": [
        {
          "output_type": "stream",
          "name": "stdout",
          "text": [
            "Downloading...\n",
            "From: https://drive.google.com/uc?id=1XOQEnnC1Z2sZa-IofkpV6vUPpnV4VFfZ\n",
            "To: /content/Data Set 2.csv\n",
            "\r  0% 0.00/2.82k [00:00<?, ?B/s]\r100% 2.82k/2.82k [00:00<00:00, 7.71MB/s]\n"
          ]
        }
      ]
    },
    {
      "cell_type": "markdown",
      "metadata": {
        "id": "xUuzoGi5OcfQ"
      },
      "source": [
        "# DATA SET 1"
      ]
    },
    {
      "cell_type": "code",
      "metadata": {
        "id": "kbJ-AEQkE5Jt"
      },
      "source": [
        "df_covid19 = pd.read_csv(\"Data Set 1.csv\")"
      ],
      "execution_count": null,
      "outputs": []
    },
    {
      "cell_type": "markdown",
      "metadata": {
        "id": "s3qNI3hZJ58s"
      },
      "source": [
        "**SOAL 1**\n",
        "\n",
        "Dengan menggunakan line plot, tampilkan perbandingan jumlah akumulatif tes sampel,\n",
        "terkonfirmasi positif dan terkonfirmasi negatif untuk periode waktu yang tersedia."
      ]
    },
    {
      "cell_type": "code",
      "metadata": {
        "colab": {
          "base_uri": "https://localhost:8080/",
          "height": 204
        },
        "id": "ogqQgY6AGApD",
        "outputId": "6c81d8e7-0e9b-4416-9092-d6a0b0881a7c"
      },
      "source": [
        "df_covid19.head()"
      ],
      "execution_count": null,
      "outputs": [
        {
          "output_type": "execute_result",
          "data": {
            "text/html": [
              "<div>\n",
              "<style scoped>\n",
              "    .dataframe tbody tr th:only-of-type {\n",
              "        vertical-align: middle;\n",
              "    }\n",
              "\n",
              "    .dataframe tbody tr th {\n",
              "        vertical-align: top;\n",
              "    }\n",
              "\n",
              "    .dataframe thead th {\n",
              "        text-align: right;\n",
              "    }\n",
              "</style>\n",
              "<table border=\"1\" class=\"dataframe\">\n",
              "  <thead>\n",
              "    <tr style=\"text-align: right;\">\n",
              "      <th></th>\n",
              "      <th>date</th>\n",
              "      <th>new_tested</th>\n",
              "      <th>acc_tested</th>\n",
              "      <th>new_confirmed</th>\n",
              "      <th>acc_confirmed</th>\n",
              "      <th>acc_negative</th>\n",
              "      <th>being_checked</th>\n",
              "      <th>isolated</th>\n",
              "    </tr>\n",
              "  </thead>\n",
              "  <tbody>\n",
              "    <tr>\n",
              "      <th>0</th>\n",
              "      <td>02-Mar-20</td>\n",
              "      <td>339</td>\n",
              "      <td>339</td>\n",
              "      <td>2</td>\n",
              "      <td>2</td>\n",
              "      <td>335</td>\n",
              "      <td>2</td>\n",
              "      <td>2</td>\n",
              "    </tr>\n",
              "    <tr>\n",
              "      <th>1</th>\n",
              "      <td>03-Mar-20</td>\n",
              "      <td>2</td>\n",
              "      <td>341</td>\n",
              "      <td>0</td>\n",
              "      <td>2</td>\n",
              "      <td>337</td>\n",
              "      <td>2</td>\n",
              "      <td>2</td>\n",
              "    </tr>\n",
              "    <tr>\n",
              "      <th>2</th>\n",
              "      <td>04-Mar-20</td>\n",
              "      <td>31</td>\n",
              "      <td>372</td>\n",
              "      <td>0</td>\n",
              "      <td>2</td>\n",
              "      <td>356</td>\n",
              "      <td>14</td>\n",
              "      <td>2</td>\n",
              "    </tr>\n",
              "    <tr>\n",
              "      <th>3</th>\n",
              "      <td>05-Mar-20</td>\n",
              "      <td>16</td>\n",
              "      <td>388</td>\n",
              "      <td>0</td>\n",
              "      <td>2</td>\n",
              "      <td>371</td>\n",
              "      <td>15</td>\n",
              "      <td>2</td>\n",
              "    </tr>\n",
              "    <tr>\n",
              "      <th>4</th>\n",
              "      <td>06-Mar-20</td>\n",
              "      <td>62</td>\n",
              "      <td>450</td>\n",
              "      <td>2</td>\n",
              "      <td>4</td>\n",
              "      <td>422</td>\n",
              "      <td>24</td>\n",
              "      <td>4</td>\n",
              "    </tr>\n",
              "  </tbody>\n",
              "</table>\n",
              "</div>"
            ],
            "text/plain": [
              "        date  new_tested  acc_tested  ...  acc_negative  being_checked  isolated\n",
              "0  02-Mar-20         339         339  ...           335              2         2\n",
              "1  03-Mar-20           2         341  ...           337              2         2\n",
              "2  04-Mar-20          31         372  ...           356             14         2\n",
              "3  05-Mar-20          16         388  ...           371             15         2\n",
              "4  06-Mar-20          62         450  ...           422             24         4\n",
              "\n",
              "[5 rows x 8 columns]"
            ]
          },
          "metadata": {},
          "execution_count": 5
        }
      ]
    },
    {
      "cell_type": "code",
      "metadata": {
        "id": "_LhDcYSYGJFj"
      },
      "source": [
        "df_covid19 = df_covid19.set_index('date')"
      ],
      "execution_count": null,
      "outputs": []
    },
    {
      "cell_type": "code",
      "metadata": {
        "id": "fyoeaq8AJSOR"
      },
      "source": [
        "df_line = df_covid19[[\"acc_tested\",\"acc_negative\",\"acc_confirmed\"]]"
      ],
      "execution_count": null,
      "outputs": []
    },
    {
      "cell_type": "code",
      "metadata": {
        "colab": {
          "base_uri": "https://localhost:8080/",
          "height": 321
        },
        "id": "G3JrhQmTGcue",
        "outputId": "0ae9ff1e-a27d-43c4-cd02-0745c29414ad"
      },
      "source": [
        "df_line.plot(kind=\"line\")\n",
        "plt.xticks(rotation=90)\n",
        "plt.show()"
      ],
      "execution_count": null,
      "outputs": [
        {
          "output_type": "display_data",
          "data": {
            "image/png": "[encoded data removed]",
            "text/plain": [
              "<Figure size 432x288 with 1 Axes>"
            ]
          },
          "metadata": {
            "needs_background": "light"
          }
        }
      ]
    },
    {
      "cell_type": "markdown",
      "metadata": {
        "id": "ZkniY8BKKDv4"
      },
      "source": [
        "**SOAL 2**\n",
        "\n",
        "•Hitunglah nilai positive rate dan negative rate untuk masing-masing waktu.\n",
        "Positive rate = Jumlah terkonfirmasi positif /\n",
        "Jumlah tes sampel\n",
        "× 100%\n",
        "\n",
        "Negative rate = Jumlah terkonfirmasi negatif /\n",
        "Jumlah tes sampel × 100%\n",
        "\n",
        "• Dengan menggunakan bar plot, tampilkan perbandingan positivity rate dan\n",
        "negativity rate untuk periode waktu yang tersedia.\n",
        "\n",
        "• Pada tanggal berapa nilai positive rate menunjukkan nilai tertinggi?\n",
        "\n",
        "• Pada tanggal berapa nilai negative rate menunjukkan nilai tertinggi?"
      ]
    },
    {
      "cell_type": "code",
      "metadata": {
        "id": "GrCmy-0UKa1a"
      },
      "source": [
        "df_covid19[\"positive_rate\"] = (df_covid19[\"acc_confirmed\"]/df_covid19[\"acc_tested\"])*100\n",
        "df_covid19[\"negative_rate\"] = (df_covid19[\"acc_negative\"]/df_covid19[\"acc_tested\"])*100"
      ],
      "execution_count": null,
      "outputs": []
    },
    {
      "cell_type": "code",
      "metadata": {
        "id": "rKvOhK3bKjuT",
        "colab": {
          "base_uri": "https://localhost:8080/",
          "height": 235
        },
        "outputId": "6431db76-6c36-4740-ea1f-5009cc59737c"
      },
      "source": [
        "df_covid19.head()"
      ],
      "execution_count": null,
      "outputs": [
        {
          "output_type": "execute_result",
          "data": {
            "text/html": [
              "<div>\n",
              "<style scoped>\n",
              "    .dataframe tbody tr th:only-of-type {\n",
              "        vertical-align: middle;\n",
              "    }\n",
              "\n",
              "    .dataframe tbody tr th {\n",
              "        vertical-align: top;\n",
              "    }\n",
              "\n",
              "    .dataframe thead th {\n",
              "        text-align: right;\n",
              "    }\n",
              "</style>\n",
              "<table border=\"1\" class=\"dataframe\">\n",
              "  <thead>\n",
              "    <tr style=\"text-align: right;\">\n",
              "      <th></th>\n",
              "      <th>new_tested</th>\n",
              "      <th>acc_tested</th>\n",
              "      <th>new_confirmed</th>\n",
              "      <th>acc_confirmed</th>\n",
              "      <th>acc_negative</th>\n",
              "      <th>being_checked</th>\n",
              "      <th>isolated</th>\n",
              "      <th>positive_rate</th>\n",
              "      <th>negative_rate</th>\n",
              "    </tr>\n",
              "    <tr>\n",
              "      <th>date</th>\n",
              "      <th></th>\n",
              "      <th></th>\n",
              "      <th></th>\n",
              "      <th></th>\n",
              "      <th></th>\n",
              "      <th></th>\n",
              "      <th></th>\n",
              "      <th></th>\n",
              "      <th></th>\n",
              "    </tr>\n",
              "  </thead>\n",
              "  <tbody>\n",
              "    <tr>\n",
              "      <th>02-Mar-20</th>\n",
              "      <td>339</td>\n",
              "      <td>339</td>\n",
              "      <td>2</td>\n",
              "      <td>2</td>\n",
              "      <td>335</td>\n",
              "      <td>2</td>\n",
              "      <td>2</td>\n",
              "      <td>0.589971</td>\n",
              "      <td>98.820059</td>\n",
              "    </tr>\n",
              "    <tr>\n",
              "      <th>03-Mar-20</th>\n",
              "      <td>2</td>\n",
              "      <td>341</td>\n",
              "      <td>0</td>\n",
              "      <td>2</td>\n",
              "      <td>337</td>\n",
              "      <td>2</td>\n",
              "      <td>2</td>\n",
              "      <td>0.586510</td>\n",
              "      <td>98.826979</td>\n",
              "    </tr>\n",
              "    <tr>\n",
              "      <th>04-Mar-20</th>\n",
              "      <td>31</td>\n",
              "      <td>372</td>\n",
              "      <td>0</td>\n",
              "      <td>2</td>\n",
              "      <td>356</td>\n",
              "      <td>14</td>\n",
              "      <td>2</td>\n",
              "      <td>0.537634</td>\n",
              "      <td>95.698925</td>\n",
              "    </tr>\n",
              "    <tr>\n",
              "      <th>05-Mar-20</th>\n",
              "      <td>16</td>\n",
              "      <td>388</td>\n",
              "      <td>0</td>\n",
              "      <td>2</td>\n",
              "      <td>371</td>\n",
              "      <td>15</td>\n",
              "      <td>2</td>\n",
              "      <td>0.515464</td>\n",
              "      <td>95.618557</td>\n",
              "    </tr>\n",
              "    <tr>\n",
              "      <th>06-Mar-20</th>\n",
              "      <td>62</td>\n",
              "      <td>450</td>\n",
              "      <td>2</td>\n",
              "      <td>4</td>\n",
              "      <td>422</td>\n",
              "      <td>24</td>\n",
              "      <td>4</td>\n",
              "      <td>0.888889</td>\n",
              "      <td>93.777778</td>\n",
              "    </tr>\n",
              "  </tbody>\n",
              "</table>\n",
              "</div>"
            ],
            "text/plain": [
              "           new_tested  acc_tested  ...  positive_rate  negative_rate\n",
              "date                               ...                              \n",
              "02-Mar-20         339         339  ...       0.589971      98.820059\n",
              "03-Mar-20           2         341  ...       0.586510      98.826979\n",
              "04-Mar-20          31         372  ...       0.537634      95.698925\n",
              "05-Mar-20          16         388  ...       0.515464      95.618557\n",
              "06-Mar-20          62         450  ...       0.888889      93.777778\n",
              "\n",
              "[5 rows x 9 columns]"
            ]
          },
          "metadata": {},
          "execution_count": 10
        }
      ]
    },
    {
      "cell_type": "code",
      "metadata": {
        "id": "Q9eFkAHEaz6c"
      },
      "source": [
        "df_grafik = df_covid19[[\"positive_rate\",\"negative_rate\"]]"
      ],
      "execution_count": null,
      "outputs": []
    },
    {
      "cell_type": "code",
      "metadata": {
        "colab": {
          "base_uri": "https://localhost:8080/",
          "height": 375
        },
        "id": "xfDZ579-KoKJ",
        "outputId": "a3dffd3b-895d-421e-b054-3336d5d3eebf"
      },
      "source": [
        "df_grafik.plot(kind=\"bar\", figsize= (15,5), color = ['r','g'])\n",
        "plt.xticks(rotation=90)\n",
        "plt.show()"
      ],
      "execution_count": null,
      "outputs": [
        {
          "output_type": "display_data",
          "data": {
            "image/png": "[encoded data removed]",
            "text/plain": [
              "<Figure size 1080x360 with 1 Axes>"
            ]
          },
          "metadata": {
            "needs_background": "light"
          }
        }
      ]
    },
    {
      "cell_type": "markdown",
      "metadata": {
        "id": "gZqjzZkNMK15"
      },
      "source": [
        "Nilai positive rate yang menunjukkan nilai tertinggi pada tanggal 31 Maret 2020"
      ]
    },
    {
      "cell_type": "code",
      "metadata": {
        "colab": {
          "base_uri": "https://localhost:8080/"
        },
        "id": "PqgC9TFGL6IS",
        "outputId": "eda34ce5-e371-4345-dcaa-93dc7095ba7c"
      },
      "source": [
        "df_covid19[['positive_rate']].idxmax()"
      ],
      "execution_count": null,
      "outputs": [
        {
          "output_type": "execute_result",
          "data": {
            "text/plain": [
              "positive_rate    31-Mar-20\n",
              "dtype: object"
            ]
          },
          "metadata": {},
          "execution_count": 13
        }
      ]
    },
    {
      "cell_type": "markdown",
      "metadata": {
        "id": "ei4fl1FWMVG1"
      },
      "source": [
        "Nilai negative rate yang menunjukkan nilai tertinggi pada tanggal 03 Maret 2020"
      ]
    },
    {
      "cell_type": "code",
      "metadata": {
        "colab": {
          "base_uri": "https://localhost:8080/"
        },
        "id": "2fS2OpvnL8g1",
        "outputId": "0b5b3ce4-57d2-4dfc-a7ca-dd14d6d53d26"
      },
      "source": [
        "df_covid19[['negative_rate']].idxmax()"
      ],
      "execution_count": null,
      "outputs": [
        {
          "output_type": "execute_result",
          "data": {
            "text/plain": [
              "negative_rate    03-Mar-20\n",
              "dtype: object"
            ]
          },
          "metadata": {},
          "execution_count": 14
        }
      ]
    },
    {
      "cell_type": "markdown",
      "metadata": {
        "id": "E52l3oI4Lfod"
      },
      "source": [
        "**SOAL 3**\n",
        "\n",
        "•Dengan menggunakan heatmap, tunjukkan korelasi antar variabel yang ada pada\n",
        "dataset.\n",
        "\n",
        "•Tentukan variabel-variabel yang memiliki nilai korelasi paling positif, dan berikan\n",
        "penjelasan terkait nilai korelasi tersebut.\n",
        "\n",
        "•Tentukan variabel-variabel yang memiliki nilai korelasi paling negatif, dan berikan\n",
        "penjelasan terkait nilai korelasi tersebut."
      ]
    },
    {
      "cell_type": "code",
      "metadata": {
        "colab": {
          "base_uri": "https://localhost:8080/",
          "height": 631
        },
        "id": "Qx0iMNrNLqVE",
        "outputId": "b38744d5-be1e-4b65-8c48-3f142616b755"
      },
      "source": [
        "plt.figure(figsize=(10, 10))\n",
        "sns.heatmap(df_covid19.corr(), square=True, annot=True)\n",
        "plt.title(\"KORELASI ANTAR VARIABLE\")\n",
        "\n"
      ],
      "execution_count": null,
      "outputs": [
        {
          "output_type": "execute_result",
          "data": {
            "text/plain": [
              "Text(0.5, 1.0, 'KORELASI ANTAR VARIABLE')"
            ]
          },
          "metadata": {},
          "execution_count": 15
        },
        {
          "output_type": "display_data",
          "data": {
            "image/png": "[encoded data removed]",
            "text/plain": [
              "<Figure size 720x720 with 2 Axes>"
            ]
          },
          "metadata": {
            "needs_background": "light"
          }
        }
      ]
    },
    {
      "cell_type": "markdown",
      "metadata": {
        "id": "OChW8pQkOTUm"
      },
      "source": [
        "# DATA SET 2"
      ]
    },
    {
      "cell_type": "markdown",
      "metadata": {
        "id": "_QaLfPMnTt7J"
      },
      "source": [
        "**SOAL 4**\n",
        "\n",
        "• Hitunglah nilai persentase perbandingan jumlah terkonfirmasi positif terhadap\n",
        "populasi per km2 untuk masing-masing provinsi.\n",
        "\n",
        "• Dengan menggunakan bar plot, tampilkan perbandingan nilai persentase tersebut\n",
        "untuk masing-masing provinsi.\n",
        "\n",
        "• Tampilkan 3 provinsi dengan nilai persentasi terbesar beserta nilai persentasenya"
      ]
    },
    {
      "cell_type": "code",
      "metadata": {
        "id": "S4vBUA-HOWNc"
      },
      "source": [
        "df2_covid192 = pd.read_csv(\"Data Set 2.csv\")"
      ],
      "execution_count": null,
      "outputs": []
    },
    {
      "cell_type": "code",
      "metadata": {
        "id": "VTj7xdpQPTqH"
      },
      "source": [
        "df2_covid192 = df2_covid192.set_index(\"province_name\")"
      ],
      "execution_count": null,
      "outputs": []
    },
    {
      "cell_type": "code",
      "metadata": {
        "colab": {
          "base_uri": "https://localhost:8080/",
          "height": 235
        },
        "id": "h2Pg6U2cPZOB",
        "outputId": "5640edf1-64c6-49b4-8e20-ef129e826118"
      },
      "source": [
        "df2_covid192.head()"
      ],
      "execution_count": null,
      "outputs": [
        {
          "output_type": "execute_result",
          "data": {
            "text/html": [
              "<div>\n",
              "<style scoped>\n",
              "    .dataframe tbody tr th:only-of-type {\n",
              "        vertical-align: middle;\n",
              "    }\n",
              "\n",
              "    .dataframe tbody tr th {\n",
              "        vertical-align: top;\n",
              "    }\n",
              "\n",
              "    .dataframe thead th {\n",
              "        text-align: right;\n",
              "    }\n",
              "</style>\n",
              "<table border=\"1\" class=\"dataframe\">\n",
              "  <thead>\n",
              "    <tr style=\"text-align: right;\">\n",
              "      <th></th>\n",
              "      <th>province_id</th>\n",
              "      <th>island</th>\n",
              "      <th>iso_code</th>\n",
              "      <th>capital_city</th>\n",
              "      <th>population</th>\n",
              "      <th>population_kmsquare</th>\n",
              "      <th>confirmed</th>\n",
              "      <th>deceased</th>\n",
              "      <th>released</th>\n",
              "      <th>longitude</th>\n",
              "      <th>latitude</th>\n",
              "    </tr>\n",
              "    <tr>\n",
              "      <th>province_name</th>\n",
              "      <th></th>\n",
              "      <th></th>\n",
              "      <th></th>\n",
              "      <th></th>\n",
              "      <th></th>\n",
              "      <th></th>\n",
              "      <th></th>\n",
              "      <th></th>\n",
              "      <th></th>\n",
              "      <th></th>\n",
              "      <th></th>\n",
              "    </tr>\n",
              "  </thead>\n",
              "  <tbody>\n",
              "    <tr>\n",
              "      <th>Aceh</th>\n",
              "      <td>1</td>\n",
              "      <td>Sumatra</td>\n",
              "      <td>AC</td>\n",
              "      <td>Banda Aceh</td>\n",
              "      <td>4906835</td>\n",
              "      <td>86</td>\n",
              "      <td>4</td>\n",
              "      <td>0</td>\n",
              "      <td>0</td>\n",
              "      <td>9.672.895</td>\n",
              "      <td>3.869.994</td>\n",
              "    </tr>\n",
              "    <tr>\n",
              "      <th>Bali</th>\n",
              "      <td>2</td>\n",
              "      <td>Kepulauan Nusa Tenggara</td>\n",
              "      <td>BA</td>\n",
              "      <td>Denpasar</td>\n",
              "      <td>4104900</td>\n",
              "      <td>738</td>\n",
              "      <td>9</td>\n",
              "      <td>2</td>\n",
              "      <td>0</td>\n",
              "      <td>11.512.255</td>\n",
              "      <td>-825.731</td>\n",
              "    </tr>\n",
              "    <tr>\n",
              "      <th>Banten</th>\n",
              "      <td>3</td>\n",
              "      <td>Jawa</td>\n",
              "      <td>BT</td>\n",
              "      <td>Serang</td>\n",
              "      <td>11704877</td>\n",
              "      <td>1298</td>\n",
              "      <td>84</td>\n",
              "      <td>4</td>\n",
              "      <td>1</td>\n",
              "      <td>106.160.889</td>\n",
              "      <td>-6.315.299</td>\n",
              "    </tr>\n",
              "    <tr>\n",
              "      <th>Bengkulu</th>\n",
              "      <td>4</td>\n",
              "      <td>Sumatra</td>\n",
              "      <td>BE</td>\n",
              "      <td>Bengkulu</td>\n",
              "      <td>1844800</td>\n",
              "      <td>93</td>\n",
              "      <td>0</td>\n",
              "      <td>0</td>\n",
              "      <td>0</td>\n",
              "      <td>102.315.674</td>\n",
              "      <td>-3.414.725</td>\n",
              "    </tr>\n",
              "    <tr>\n",
              "      <th>DI Yogyakarta</th>\n",
              "      <td>5</td>\n",
              "      <td>Jawa</td>\n",
              "      <td>YO</td>\n",
              "      <td>Yogyakarta</td>\n",
              "      <td>3553100</td>\n",
              "      <td>1134</td>\n",
              "      <td>22</td>\n",
              "      <td>2</td>\n",
              "      <td>1</td>\n",
              "      <td>110.390.625</td>\n",
              "      <td>-7.863.382</td>\n",
              "    </tr>\n",
              "  </tbody>\n",
              "</table>\n",
              "</div>"
            ],
            "text/plain": [
              "               province_id                   island  ...    longitude    latitude\n",
              "province_name                                        ...                         \n",
              "Aceh                     1                  Sumatra  ...    9.672.895   3.869.994\n",
              "Bali                     2  Kepulauan Nusa Tenggara  ...   11.512.255    -825.731\n",
              "Banten                   3                     Jawa  ...  106.160.889  -6.315.299\n",
              "Bengkulu                 4                  Sumatra  ...  102.315.674  -3.414.725\n",
              "DI Yogyakarta            5                     Jawa  ...  110.390.625  -7.863.382\n",
              "\n",
              "[5 rows x 11 columns]"
            ]
          },
          "metadata": {},
          "execution_count": 18
        }
      ]
    },
    {
      "cell_type": "code",
      "metadata": {
        "id": "t-mnCCbdPsCn"
      },
      "source": [
        "df2_covid192[\"percent_positive\"] = df2_covid192[\"confirmed\"]/df2_covid192[\"population_kmsquare\"]*100"
      ],
      "execution_count": null,
      "outputs": []
    },
    {
      "cell_type": "code",
      "metadata": {
        "id": "GK6Q970gP-g6",
        "colab": {
          "base_uri": "https://localhost:8080/",
          "height": 235
        },
        "outputId": "f8906928-f1e1-4103-aba5-10d8e321c872"
      },
      "source": [
        "df2_covid192.head()\n"
      ],
      "execution_count": null,
      "outputs": [
        {
          "output_type": "execute_result",
          "data": {
            "text/html": [
              "<div>\n",
              "<style scoped>\n",
              "    .dataframe tbody tr th:only-of-type {\n",
              "        vertical-align: middle;\n",
              "    }\n",
              "\n",
              "    .dataframe tbody tr th {\n",
              "        vertical-align: top;\n",
              "    }\n",
              "\n",
              "    .dataframe thead th {\n",
              "        text-align: right;\n",
              "    }\n",
              "</style>\n",
              "<table border=\"1\" class=\"dataframe\">\n",
              "  <thead>\n",
              "    <tr style=\"text-align: right;\">\n",
              "      <th></th>\n",
              "      <th>province_id</th>\n",
              "      <th>island</th>\n",
              "      <th>iso_code</th>\n",
              "      <th>capital_city</th>\n",
              "      <th>population</th>\n",
              "      <th>population_kmsquare</th>\n",
              "      <th>confirmed</th>\n",
              "      <th>deceased</th>\n",
              "      <th>released</th>\n",
              "      <th>longitude</th>\n",
              "      <th>latitude</th>\n",
              "      <th>percent_positive</th>\n",
              "    </tr>\n",
              "    <tr>\n",
              "      <th>province_name</th>\n",
              "      <th></th>\n",
              "      <th></th>\n",
              "      <th></th>\n",
              "      <th></th>\n",
              "      <th></th>\n",
              "      <th></th>\n",
              "      <th></th>\n",
              "      <th></th>\n",
              "      <th></th>\n",
              "      <th></th>\n",
              "      <th></th>\n",
              "      <th></th>\n",
              "    </tr>\n",
              "  </thead>\n",
              "  <tbody>\n",
              "    <tr>\n",
              "      <th>Aceh</th>\n",
              "      <td>1</td>\n",
              "      <td>Sumatra</td>\n",
              "      <td>AC</td>\n",
              "      <td>Banda Aceh</td>\n",
              "      <td>4906835</td>\n",
              "      <td>86</td>\n",
              "      <td>4</td>\n",
              "      <td>0</td>\n",
              "      <td>0</td>\n",
              "      <td>9.672.895</td>\n",
              "      <td>3.869.994</td>\n",
              "      <td>4.651163</td>\n",
              "    </tr>\n",
              "    <tr>\n",
              "      <th>Bali</th>\n",
              "      <td>2</td>\n",
              "      <td>Kepulauan Nusa Tenggara</td>\n",
              "      <td>BA</td>\n",
              "      <td>Denpasar</td>\n",
              "      <td>4104900</td>\n",
              "      <td>738</td>\n",
              "      <td>9</td>\n",
              "      <td>2</td>\n",
              "      <td>0</td>\n",
              "      <td>11.512.255</td>\n",
              "      <td>-825.731</td>\n",
              "      <td>1.219512</td>\n",
              "    </tr>\n",
              "    <tr>\n",
              "      <th>Banten</th>\n",
              "      <td>3</td>\n",
              "      <td>Jawa</td>\n",
              "      <td>BT</td>\n",
              "      <td>Serang</td>\n",
              "      <td>11704877</td>\n",
              "      <td>1298</td>\n",
              "      <td>84</td>\n",
              "      <td>4</td>\n",
              "      <td>1</td>\n",
              "      <td>106.160.889</td>\n",
              "      <td>-6.315.299</td>\n",
              "      <td>6.471495</td>\n",
              "    </tr>\n",
              "    <tr>\n",
              "      <th>Bengkulu</th>\n",
              "      <td>4</td>\n",
              "      <td>Sumatra</td>\n",
              "      <td>BE</td>\n",
              "      <td>Bengkulu</td>\n",
              "      <td>1844800</td>\n",
              "      <td>93</td>\n",
              "      <td>0</td>\n",
              "      <td>0</td>\n",
              "      <td>0</td>\n",
              "      <td>102.315.674</td>\n",
              "      <td>-3.414.725</td>\n",
              "      <td>0.000000</td>\n",
              "    </tr>\n",
              "    <tr>\n",
              "      <th>DI Yogyakarta</th>\n",
              "      <td>5</td>\n",
              "      <td>Jawa</td>\n",
              "      <td>YO</td>\n",
              "      <td>Yogyakarta</td>\n",
              "      <td>3553100</td>\n",
              "      <td>1134</td>\n",
              "      <td>22</td>\n",
              "      <td>2</td>\n",
              "      <td>1</td>\n",
              "      <td>110.390.625</td>\n",
              "      <td>-7.863.382</td>\n",
              "      <td>1.940035</td>\n",
              "    </tr>\n",
              "  </tbody>\n",
              "</table>\n",
              "</div>"
            ],
            "text/plain": [
              "               province_id  ... percent_positive\n",
              "province_name               ...                 \n",
              "Aceh                     1  ...         4.651163\n",
              "Bali                     2  ...         1.219512\n",
              "Banten                   3  ...         6.471495\n",
              "Bengkulu                 4  ...         0.000000\n",
              "DI Yogyakarta            5  ...         1.940035\n",
              "\n",
              "[5 rows x 12 columns]"
            ]
          },
          "metadata": {},
          "execution_count": 20
        }
      ]
    },
    {
      "cell_type": "code",
      "metadata": {
        "colab": {
          "base_uri": "https://localhost:8080/",
          "height": 607
        },
        "id": "26fBsk6TQFTg",
        "outputId": "89cc58a7-ad66-4574-8124-673ccca629ec"
      },
      "source": [
        "df2_covid192.sort_values([\"percent_positive\"], ascending=False, axis=0, inplace=True)\n",
        "df2_grafik = df2_covid192[\"percent_positive\"]\n",
        "df2_grafik.plot(kind=\"barh\", figsize=(20,10), color = [\"r\"])\n",
        "plt.title(\"NILAI PERSENTASE JUMLAH TERKONFIRMASI POSITIF UNTUK MASING-MASING PROVINSI.\")\n",
        "plt.show()"
      ],
      "execution_count": null,
      "outputs": [
        {
          "output_type": "display_data",
          "data": {
            "image/png": "[encoded data removed]",
            "text/plain": [
              "<Figure size 1440x720 with 1 Axes>"
            ]
          },
          "metadata": {
            "needs_background": "light"
          }
        }
      ]
    },
    {
      "cell_type": "markdown",
      "metadata": {
        "id": "xn8QVgZhTW76"
      },
      "source": [
        "3 provinsi dengan nilai persentasi terbesar beserta nilai persentasenya"
      ]
    },
    {
      "cell_type": "code",
      "metadata": {
        "colab": {
          "base_uri": "https://localhost:8080/",
          "height": 172
        },
        "id": "A-mdYORhTSVM",
        "outputId": "74d58bef-05ac-4b62-8311-d4333cf87297"
      },
      "source": [
        "df2_covid192.head(3)"
      ],
      "execution_count": null,
      "outputs": [
        {
          "output_type": "execute_result",
          "data": {
            "text/html": [
              "<div>\n",
              "<style scoped>\n",
              "    .dataframe tbody tr th:only-of-type {\n",
              "        vertical-align: middle;\n",
              "    }\n",
              "\n",
              "    .dataframe tbody tr th {\n",
              "        vertical-align: top;\n",
              "    }\n",
              "\n",
              "    .dataframe thead th {\n",
              "        text-align: right;\n",
              "    }\n",
              "</style>\n",
              "<table border=\"1\" class=\"dataframe\">\n",
              "  <thead>\n",
              "    <tr style=\"text-align: right;\">\n",
              "      <th></th>\n",
              "      <th>province_id</th>\n",
              "      <th>island</th>\n",
              "      <th>iso_code</th>\n",
              "      <th>capital_city</th>\n",
              "      <th>population</th>\n",
              "      <th>population_kmsquare</th>\n",
              "      <th>confirmed</th>\n",
              "      <th>deceased</th>\n",
              "      <th>released</th>\n",
              "      <th>longitude</th>\n",
              "      <th>latitude</th>\n",
              "      <th>percent_positive</th>\n",
              "    </tr>\n",
              "    <tr>\n",
              "      <th>province_name</th>\n",
              "      <th></th>\n",
              "      <th></th>\n",
              "      <th></th>\n",
              "      <th></th>\n",
              "      <th></th>\n",
              "      <th></th>\n",
              "      <th></th>\n",
              "      <th></th>\n",
              "      <th></th>\n",
              "      <th></th>\n",
              "      <th></th>\n",
              "      <th></th>\n",
              "    </tr>\n",
              "  </thead>\n",
              "  <tbody>\n",
              "    <tr>\n",
              "      <th>Papua</th>\n",
              "      <td>24</td>\n",
              "      <td>Papua</td>\n",
              "      <td>PA</td>\n",
              "      <td>Jayapura</td>\n",
              "      <td>3091047</td>\n",
              "      <td>10</td>\n",
              "      <td>7</td>\n",
              "      <td>0</td>\n",
              "      <td>0</td>\n",
              "      <td>138.570.557</td>\n",
              "      <td>-3.579.213</td>\n",
              "      <td>70.000000</td>\n",
              "    </tr>\n",
              "    <tr>\n",
              "      <th>Kalimantan Timur</th>\n",
              "      <td>15</td>\n",
              "      <td>Kalimantan</td>\n",
              "      <td>KI</td>\n",
              "      <td>Samarinda</td>\n",
              "      <td>3351432</td>\n",
              "      <td>17</td>\n",
              "      <td>11</td>\n",
              "      <td>0</td>\n",
              "      <td>0</td>\n",
              "      <td>116.806.641</td>\n",
              "      <td>0.307616</td>\n",
              "      <td>64.705882</td>\n",
              "    </tr>\n",
              "    <tr>\n",
              "      <th>DKI Jakarta</th>\n",
              "      <td>6</td>\n",
              "      <td>Jawa</td>\n",
              "      <td>JK</td>\n",
              "      <td>Jakarta</td>\n",
              "      <td>10012271</td>\n",
              "      <td>1353</td>\n",
              "      <td>598</td>\n",
              "      <td>51</td>\n",
              "      <td>31</td>\n",
              "      <td>106.853.027</td>\n",
              "      <td>-6.162.401</td>\n",
              "      <td>44.198078</td>\n",
              "    </tr>\n",
              "  </tbody>\n",
              "</table>\n",
              "</div>"
            ],
            "text/plain": [
              "                  province_id      island  ...    latitude percent_positive\n",
              "province_name                              ...                             \n",
              "Papua                      24       Papua  ...  -3.579.213        70.000000\n",
              "Kalimantan Timur           15  Kalimantan  ...    0.307616        64.705882\n",
              "DKI Jakarta                 6        Jawa  ...  -6.162.401        44.198078\n",
              "\n",
              "[3 rows x 12 columns]"
            ]
          },
          "metadata": {},
          "execution_count": 22
        }
      ]
    },
    {
      "cell_type": "markdown",
      "metadata": {
        "id": "mpMTJCFyUv5M"
      },
      "source": [
        "**SOAL 5**\n",
        "\n",
        "Dengan menggunakan pie chart, tampilkan persentase jumlah terkonfimasi positif untuk\n",
        "masing-masing pulau."
      ]
    },
    {
      "cell_type": "code",
      "metadata": {
        "colab": {
          "base_uri": "https://localhost:8080/",
          "height": 235
        },
        "id": "ObgGGaWdQzWL",
        "outputId": "d2d2ecf1-c180-4c14-e1d8-d8b264fd5df9"
      },
      "source": [
        "df_island = df2_covid192.groupby('island', axis=0).sum()\n",
        "df_island.sort_values([\"confirmed\"], ascending=False, axis=0, inplace=True)\n",
        "df_island.head()"
      ],
      "execution_count": null,
      "outputs": [
        {
          "output_type": "execute_result",
          "data": {
            "text/html": [
              "<div>\n",
              "<style scoped>\n",
              "    .dataframe tbody tr th:only-of-type {\n",
              "        vertical-align: middle;\n",
              "    }\n",
              "\n",
              "    .dataframe tbody tr th {\n",
              "        vertical-align: top;\n",
              "    }\n",
              "\n",
              "    .dataframe thead th {\n",
              "        text-align: right;\n",
              "    }\n",
              "</style>\n",
              "<table border=\"1\" class=\"dataframe\">\n",
              "  <thead>\n",
              "    <tr style=\"text-align: right;\">\n",
              "      <th></th>\n",
              "      <th>province_id</th>\n",
              "      <th>population</th>\n",
              "      <th>population_kmsquare</th>\n",
              "      <th>confirmed</th>\n",
              "      <th>deceased</th>\n",
              "      <th>released</th>\n",
              "      <th>percent_positive</th>\n",
              "    </tr>\n",
              "    <tr>\n",
              "      <th>island</th>\n",
              "      <th></th>\n",
              "      <th></th>\n",
              "      <th></th>\n",
              "      <th></th>\n",
              "      <th></th>\n",
              "      <th></th>\n",
              "      <th></th>\n",
              "    </tr>\n",
              "  </thead>\n",
              "  <tbody>\n",
              "    <tr>\n",
              "      <th>Jawa</th>\n",
              "      <td>44</td>\n",
              "      <td>143432781</td>\n",
              "      <td>6883</td>\n",
              "      <td>911</td>\n",
              "      <td>81</td>\n",
              "      <td>46</td>\n",
              "      <td>72.663077</td>\n",
              "    </tr>\n",
              "    <tr>\n",
              "      <th>Sulawesi</th>\n",
              "      <td>152</td>\n",
              "      <td>18471854</td>\n",
              "      <td>631</td>\n",
              "      <td>35</td>\n",
              "      <td>1</td>\n",
              "      <td>0</td>\n",
              "      <td>23.875150</td>\n",
              "    </tr>\n",
              "    <tr>\n",
              "      <th>Sumatra</th>\n",
              "      <td>192</td>\n",
              "      <td>54412234</td>\n",
              "      <td>1257</td>\n",
              "      <td>29</td>\n",
              "      <td>2</td>\n",
              "      <td>0</td>\n",
              "      <td>21.065740</td>\n",
              "    </tr>\n",
              "    <tr>\n",
              "      <th>Kalimantan</th>\n",
              "      <td>70</td>\n",
              "      <td>15048557</td>\n",
              "      <td>190</td>\n",
              "      <td>22</td>\n",
              "      <td>0</td>\n",
              "      <td>0</td>\n",
              "      <td>112.896559</td>\n",
              "    </tr>\n",
              "    <tr>\n",
              "      <th>Kepulauan Nusa Tenggara</th>\n",
              "      <td>47</td>\n",
              "      <td>13915592</td>\n",
              "      <td>1083</td>\n",
              "      <td>11</td>\n",
              "      <td>2</td>\n",
              "      <td>0</td>\n",
              "      <td>2.056332</td>\n",
              "    </tr>\n",
              "  </tbody>\n",
              "</table>\n",
              "</div>"
            ],
            "text/plain": [
              "                         province_id  population  ...  released  percent_positive\n",
              "island                                            ...                            \n",
              "Jawa                              44   143432781  ...        46         72.663077\n",
              "Sulawesi                         152    18471854  ...         0         23.875150\n",
              "Sumatra                          192    54412234  ...         0         21.065740\n",
              "Kalimantan                        70    15048557  ...         0        112.896559\n",
              "Kepulauan Nusa Tenggara           47    13915592  ...         0          2.056332\n",
              "\n",
              "[5 rows x 7 columns]"
            ]
          },
          "metadata": {},
          "execution_count": 23
        }
      ]
    },
    {
      "cell_type": "code",
      "metadata": {
        "colab": {
          "base_uri": "https://localhost:8080/",
          "height": 534
        },
        "id": "p0pz4hAEU1FZ",
        "outputId": "af25b766-11ce-41ce-a855-1bb6cdc2dfc1"
      },
      "source": [
        "colors_list = ['red', 'green', 'blue', 'pink', 'lightgreen', 'lightcoral', 'orange']\n",
        "explode_list = [0, 0.1, 0.2, 0.3, 0.4,0.2,0.1]\n",
        "df_island['confirmed'].plot(kind='pie',\n",
        "                            figsize=(15, 8),\n",
        "                            autopct='%1.1f%%',\n",
        "                            startangle=90,\n",
        "                            labels=None,\n",
        "                            pctdistance=1.12,\n",
        "                            colors=colors_list,\n",
        "                            explode=explode_list\n",
        "                            )\n",
        "\n",
        "\n",
        "plt.title('PERSENTASE JUMLAH TERKONFIRMASI POSITIF UNTUK MASING-MASING PULAU', y=1.12)\n",
        "\n",
        "plt.axis('equal')\n",
        "\n",
        "plt.legend(labels=df_island.index, loc='upper left')\n",
        "\n",
        "plt.show()"
      ],
      "execution_count": null,
      "outputs": [
        {
          "output_type": "display_data",
          "data": {
            "image/png": "[encoded data removed]",
            "text/plain": [
              "<Figure size 1080x576 with 1 Axes>"
            ]
          },
          "metadata": {}
        }
      ]
    }
  ]
}